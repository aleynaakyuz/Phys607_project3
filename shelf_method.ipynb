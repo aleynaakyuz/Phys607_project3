{
 "cells": [
  {
   "cell_type": "code",
   "execution_count": 1,
   "id": "e4062a5f",
   "metadata": {},
   "outputs": [
    {
     "name": "stderr",
     "output_type": "stream",
     "text": [
      "PyCBC.libutils: pkg-config call failed, setting NO_PKGCONFIG=1\n"
     ]
    }
   ],
   "source": [
    "from pycbc.catalog import Merger\n",
    "from pycbc.psd import interpolate, inverse_spectrum_truncation\n",
    "from pycbc.frame import read_frame\n",
    "from pycbc.filter import highpass, resample_to_delta_t\n",
    "from astropy.utils.data import download_file\n",
    "from pycbc.inference import models, sampler\n",
    "from pycbc.distributions import Uniform, JointDistribution, SinAngle, UniformSky\n",
    "import numpy\n",
    "import numpy as np\n",
    "import h5py\n",
    "from pycbc.types.frequencyseries import FrequencySeries\n",
    "from pycbc.detector import Detector\n",
    "import matplotlib.pyplot as plt"
   ]
  },
  {
   "cell_type": "code",
   "execution_count": 2,
   "id": "7b9e5d1d",
   "metadata": {},
   "outputs": [
    {
     "data": {
      "text/plain": [
       "<KeysViewHDF5 ['coa_phase', 'dec', 'distance', 'inclination', 'mass1', 'mass2', 'polarization', 'q', 'ra', 'redshift', 'spin1_a', 'spin1_azimuthal', 'spin1_polar', 'spin1x', 'spin1y', 'spin1z', 'spin2_a', 'spin2_azimuthal', 'spin2_polar', 'spin2x', 'spin2y', 'spin2z', 'srcmass1', 'srcmass2', 'total_rate']>"
      ]
     },
     "execution_count": 2,
     "metadata": {},
     "output_type": "execute_result"
    }
   ],
   "source": [
    "para_data = h5py.File('./Phys607_project3/src/data/parameter.h5', 'r')\n",
    "para_data.keys()"
   ]
  },
  {
   "cell_type": "code",
   "execution_count": 3,
   "id": "982091e0",
   "metadata": {},
   "outputs": [],
   "source": [
    "parameters = {\n",
    "    \"mass1\": \"mass1\",\n",
    "    \"mass2\": \"mass2\",\n",
    "    \"spin1x\": \"spin1x\",\n",
    "    \"spin1y\": \"spin1y\",\n",
    "    \"spin1z\": \"spin1z\",\n",
    "    \"spin2x\": \"spin2x\",\n",
    "    \"spin2y\": \"spin2y\",\n",
    "    \"spin2z\": \"spin2z\",\n",
    "    \"coa_phase\": \"coa_phase\",\n",
    "    \"inclination\": \"inclination\",\n",
    "    \"distance\": \"distance\",\n",
    "    \"ra\": \"ra\",\n",
    "    \"dec\": \"dec\",\n",
    "    \"polarization\": \"polarization\"\n",
    "}\n",
    "\n",
    "parameters2 = {\n",
    "    \"approximant\": \"IMRPhenomXPHM\",\n",
    "    #\"delta_f\": 0.1,\n",
    "    \"f_lower\": 10\n",
    "}"
   ]
  },
  {
   "cell_type": "code",
   "execution_count": 4,
   "id": "1b11d62e",
   "metadata": {},
   "outputs": [],
   "source": [
    "data_dic = {key: para_data[dataset_key][:][0] for key, dataset_key in parameters.items()}"
   ]
  },
  {
   "cell_type": "code",
   "execution_count": 5,
   "id": "220aeb14",
   "metadata": {},
   "outputs": [
    {
     "data": {
      "text/plain": [
       "{'mass1': 60.22234585403269,\n",
       " 'mass2': 57.169482517199846,\n",
       " 'spin1x': -0.2900329586425194,\n",
       " 'spin1y': -0.08403156551895755,\n",
       " 'spin1z': 0.04665359681814268,\n",
       " 'spin2x': -0.18902220102218603,\n",
       " 'spin2y': 0.07817423823443369,\n",
       " 'spin2z': -0.25795176714346885,\n",
       " 'coa_phase': 2.4092341172487513,\n",
       " 'inclination': 2.7579985692108107,\n",
       " 'distance': 44168.47968834049,\n",
       " 'ra': 3.3231447888333756,\n",
       " 'dec': 0.6229703235736507,\n",
       " 'polarization': 3.5691292400886723,\n",
       " 'approximant': 'IMRPhenomXPHM',\n",
       " 'f_lower': 10}"
      ]
     },
     "execution_count": 5,
     "metadata": {},
     "output_type": "execute_result"
    }
   ],
   "source": [
    "all_parameters = {**data_dic, **parameters2}\n",
    "all_parameters"
   ]
  },
  {
   "cell_type": "code",
   "execution_count": 6,
   "id": "ec862bd4",
   "metadata": {},
   "outputs": [],
   "source": [
    "time = 1187008882.4"
   ]
  },
  {
   "cell_type": "code",
   "execution_count": 7,
   "id": "75936260",
   "metadata": {},
   "outputs": [],
   "source": [
    "variables = ['inclination', 'distance', 'ra', 'dec']"
   ]
  },
  {
   "cell_type": "code",
   "execution_count": 8,
   "id": "de4a3e2b",
   "metadata": {},
   "outputs": [],
   "source": [
    "for key in variables:\n",
    "    del all_parameters[key]"
   ]
  },
  {
   "cell_type": "code",
   "execution_count": 9,
   "id": "dabdecee",
   "metadata": {},
   "outputs": [],
   "source": [
    "variables.append('tc')"
   ]
  },
  {
   "cell_type": "code",
   "execution_count": 10,
   "id": "17123671",
   "metadata": {},
   "outputs": [],
   "source": [
    "static = all_parameters"
   ]
  },
  {
   "cell_type": "code",
   "execution_count": 11,
   "id": "2d34c056",
   "metadata": {},
   "outputs": [],
   "source": [
    "prior = JointDistribution(tuple(variables),\n",
    "                Uniform(\n",
    "                    inclination=(2, numpy.pi),\n",
    "                    distance=(20, 50),\n",
    "                    tc=(time+.02, time+0.05),\n",
    "                ),\n",
    "                UniformSky(),   # This is a custom distribution which\n",
    "                                # expects ra / dec and creates a isotropic distribution\n",
    "        )"
   ]
  },
  {
   "cell_type": "code",
   "execution_count": 12,
   "id": "e418c747",
   "metadata": {},
   "outputs": [],
   "source": [
    "data = h5py.File('./Phys607_project3/src/data/data.h5', 'r')"
   ]
  },
  {
   "cell_type": "code",
   "execution_count": 13,
   "id": "682529af",
   "metadata": {},
   "outputs": [],
   "source": [
    "hp = data['hp'][:]"
   ]
  },
  {
   "cell_type": "code",
   "execution_count": 14,
   "id": "9cb32220",
   "metadata": {},
   "outputs": [],
   "source": [
    "dim = hp.shape[0]"
   ]
  },
  {
   "cell_type": "code",
   "execution_count": 15,
   "id": "737c2acb",
   "metadata": {},
   "outputs": [],
   "source": [
    "noise = np.random.normal(0, 1, dim)*10**(-20)"
   ]
  },
  {
   "cell_type": "code",
   "execution_count": 16,
   "id": "45434802",
   "metadata": {},
   "outputs": [],
   "source": [
    "noisy_hp = hp + noise"
   ]
  },
  {
   "cell_type": "code",
   "execution_count": 17,
   "id": "c817b389",
   "metadata": {},
   "outputs": [],
   "source": [
    "hc = data['hc'][:]\n",
    "dim = hc.shape[0]\n",
    "noise = np.random.normal(0, 1, dim)*10**(-20)\n",
    "noisy_hc = hc + noise"
   ]
  },
  {
   "cell_type": "code",
   "execution_count": 18,
   "id": "30cc72ed",
   "metadata": {},
   "outputs": [],
   "source": [
    "noisy_series_hp = FrequencySeries(noisy_hp, delta_f=0.1)"
   ]
  },
  {
   "cell_type": "code",
   "execution_count": 19,
   "id": "3d994295",
   "metadata": {},
   "outputs": [],
   "source": [
    "data_freq = {'H1': noisy_series_hp}"
   ]
  },
  {
   "cell_type": "code",
   "execution_count": 21,
   "id": "35e1f844",
   "metadata": {},
   "outputs": [],
   "source": [
    "import copy\n",
    "model = models.SingleTemplate(variables, copy.deepcopy(data_freq),\n",
    "                              low_frequency_cutoff={'H1':10},\n",
    "                              static_params = static,\n",
    "                              prior = prior,\n",
    "                              sample_rate = 6553.6,\n",
    "                              )"
   ]
  },
  {
   "cell_type": "code",
   "execution_count": 22,
   "id": "a5f4d7b6",
   "metadata": {},
   "outputs": [],
   "source": [
    "smpl = sampler.EmceePTSampler(model, 3, 200, nprocesses=8)\n",
    "_ = smpl.set_p0()"
   ]
  },
  {
   "cell_type": "code",
   "execution_count": 25,
   "id": "a1a87155",
   "metadata": {
    "scrolled": false
   },
   "outputs": [
    {
     "ename": "IndexError",
     "evalue": "index 7779181412097 is out of bounds for axis 0 with size 65536",
     "output_type": "error",
     "traceback": [
      "\u001b[0;31m---------------------------------------------------------------------------\u001b[0m",
      "\u001b[0;31mRemoteTraceback\u001b[0m                           Traceback (most recent call last)",
      "\u001b[0;31mRemoteTraceback\u001b[0m: \n\"\"\"\nTraceback (most recent call last):\n  File \"/Users/aleyna/miniconda3/envs/pycbc/lib/python3.11/site-packages/pycbc/inference/models/base.py\", line 502, in _trytoget\n    return getattr(self._current_stats, statname)\n           ^^^^^^^^^^^^^^^^^^^^^^^^^^^^^^^^^^^^^^\nAttributeError: 'ModelStats' object has no attribute 'loglikelihood'\n\nDuring handling of the above exception, another exception occurred:\n\nTraceback (most recent call last):\n  File \"/Users/aleyna/miniconda3/envs/pycbc/lib/python3.11/site-packages/pycbc/inference/models/base.py\", line 502, in _trytoget\n    return getattr(self._current_stats, statname)\n           ^^^^^^^^^^^^^^^^^^^^^^^^^^^^^^^^^^^^^^\nAttributeError: 'ModelStats' object has no attribute 'loglr'\n\nDuring handling of the above exception, another exception occurred:\n\nTraceback (most recent call last):\n  File \"/Users/aleyna/miniconda3/envs/pycbc/lib/python3.11/multiprocessing/pool.py\", line 125, in worker\n    result = (True, func(*args, **kwds))\n                    ^^^^^^^^^^^^^^^^^^^\n  File \"/Users/aleyna/miniconda3/envs/pycbc/lib/python3.11/multiprocessing/pool.py\", line 48, in mapstar\n    return list(map(*args))\n           ^^^^^^^^^^^^^^^^\n  File \"/Users/aleyna/miniconda3/envs/pycbc/lib/python3.11/site-packages/emcee/ptsampler.py\", line 96, in __call__\n    return self.logl(x, *self.loglargs, **self.loglkwargs), lp\n           ^^^^^^^^^^^^^^^^^^^^^^^^^^^^^^^^^^^^^^^^^^^^^^^\n  File \"/Users/aleyna/miniconda3/envs/pycbc/lib/python3.11/site-packages/pycbc/inference/models/__init__.py\", line 48, in _call_global_model\n    return _global_instance(*args, **kwds)  # pylint:disable=not-callable\n           ^^^^^^^^^^^^^^^^^^^^^^^^^^^^^^^\n  File \"/Users/aleyna/miniconda3/envs/pycbc/lib/python3.11/site-packages/pycbc/inference/models/__init__.py\", line 157, in __call__\n    val = getattr(self.model, callstat)\n          ^^^^^^^^^^^^^^^^^^^^^^^^^^^^^\n  File \"/Users/aleyna/miniconda3/envs/pycbc/lib/python3.11/site-packages/pycbc/inference/models/base.py\", line 521, in loglikelihood\n    return self._trytoget('loglikelihood', self._loglikelihood,\n           ^^^^^^^^^^^^^^^^^^^^^^^^^^^^^^^^^^^^^^^^^^^^^^^^^^^^\n  File \"/Users/aleyna/miniconda3/envs/pycbc/lib/python3.11/site-packages/pycbc/inference/models/base.py\", line 509, in _trytoget\n    val = fallback(**kwargs)\n          ^^^^^^^^^^^^^^^^^^\n  File \"/Users/aleyna/miniconda3/envs/pycbc/lib/python3.11/site-packages/pycbc/inference/models/gaussian_noise.py\", line 419, in _loglikelihood\n    return self.loglr + self.lognl\n           ^^^^^^^^^^\n  File \"/Users/aleyna/miniconda3/envs/pycbc/lib/python3.11/site-packages/pycbc/inference/models/base_data.py\", line 116, in loglr\n    return self._trytoget('loglr', self._loglr, apply_transforms=True)\n           ^^^^^^^^^^^^^^^^^^^^^^^^^^^^^^^^^^^^^^^^^^^^^^^^^^^^^^^^^^^\n  File \"/Users/aleyna/miniconda3/envs/pycbc/lib/python3.11/site-packages/pycbc/inference/models/base.py\", line 509, in _trytoget\n    val = fallback(**kwargs)\n          ^^^^^^^^^^^^^^^^^^\n  File \"/Users/aleyna/miniconda3/envs/pycbc/lib/python3.11/site-packages/pycbc/inference/models/single_template.py\", line 222, in _loglr\n    sh = self.sh[ifo].at_time(self.dts[ifo], interpolate='quadratic')\n         ^^^^^^^^^^^^^^^^^^^^^^^^^^^^^^^^^^^^^^^^^^^^^^^^^^^^^^^^^^^^\n  File \"/Users/aleyna/miniconda3/envs/pycbc/lib/python3.11/site-packages/pycbc/types/timeseries.py\", line 291, in at_time\n    c = self.data[i]\n        ~~~~~~~~~^^^\nIndexError: index 7779181412097 is out of bounds for axis 0 with size 65536\n\"\"\"",
      "\nThe above exception was the direct cause of the following exception:\n",
      "\u001b[0;31mIndexError\u001b[0m                                Traceback (most recent call last)",
      "Cell \u001b[0;32mIn[25], line 1\u001b[0m\n\u001b[0;32m----> 1\u001b[0m smpl\u001b[38;5;241m.\u001b[39mrun_mcmc(\u001b[38;5;241m200\u001b[39m)\n",
      "File \u001b[0;32m~/miniconda3/envs/pycbc/lib/python3.11/site-packages/pycbc/inference/sampler/emcee_pt.py:333\u001b[0m, in \u001b[0;36mEmceePTSampler.run_mcmc\u001b[0;34m(self, niterations)\u001b[0m\n\u001b[1;32m    331\u001b[0m \u001b[38;5;28;01mif\u001b[39;00m pos \u001b[38;5;129;01mis\u001b[39;00m \u001b[38;5;28;01mNone\u001b[39;00m:\n\u001b[1;32m    332\u001b[0m     pos \u001b[38;5;241m=\u001b[39m \u001b[38;5;28mself\u001b[39m\u001b[38;5;241m.\u001b[39m_p0\n\u001b[0;32m--> 333\u001b[0m res \u001b[38;5;241m=\u001b[39m \u001b[38;5;28mself\u001b[39m\u001b[38;5;241m.\u001b[39m_sampler\u001b[38;5;241m.\u001b[39mrun_mcmc(pos, niterations)\n\u001b[1;32m    334\u001b[0m p, _, _ \u001b[38;5;241m=\u001b[39m res[\u001b[38;5;241m0\u001b[39m], res[\u001b[38;5;241m1\u001b[39m], res[\u001b[38;5;241m2\u001b[39m]\n\u001b[1;32m    335\u001b[0m \u001b[38;5;66;03m# update the positions\u001b[39;00m\n",
      "File \u001b[0;32m~/miniconda3/envs/pycbc/lib/python3.11/site-packages/emcee/sampler.py:171\u001b[0m, in \u001b[0;36mSampler.run_mcmc\u001b[0;34m(self, pos0, N, rstate0, lnprob0, **kwargs)\u001b[0m\n\u001b[1;32m    168\u001b[0m     \u001b[38;5;28;01mif\u001b[39;00m rstate0 \u001b[38;5;129;01mis\u001b[39;00m \u001b[38;5;28;01mNone\u001b[39;00m:\n\u001b[1;32m    169\u001b[0m         rstate0 \u001b[38;5;241m=\u001b[39m \u001b[38;5;28mself\u001b[39m\u001b[38;5;241m.\u001b[39m_last_run_mcmc_result[\u001b[38;5;241m2\u001b[39m]\n\u001b[0;32m--> 171\u001b[0m \u001b[38;5;28;01mfor\u001b[39;00m results \u001b[38;5;129;01min\u001b[39;00m \u001b[38;5;28mself\u001b[39m\u001b[38;5;241m.\u001b[39msample(pos0, lnprob0, rstate0, iterations\u001b[38;5;241m=\u001b[39mN,\n\u001b[1;32m    172\u001b[0m                            \u001b[38;5;241m*\u001b[39m\u001b[38;5;241m*\u001b[39mkwargs):\n\u001b[1;32m    173\u001b[0m     \u001b[38;5;28;01mpass\u001b[39;00m\n\u001b[1;32m    175\u001b[0m \u001b[38;5;66;03m# store so that the ``pos0=None`` case will work.  We throw out the blob\u001b[39;00m\n\u001b[1;32m    176\u001b[0m \u001b[38;5;66;03m# if it's there because we don't need it\u001b[39;00m\n",
      "File \u001b[0;32m~/miniconda3/envs/pycbc/lib/python3.11/site-packages/emcee/ptsampler.py:259\u001b[0m, in \u001b[0;36mPTSampler.sample\u001b[0;34m(self, p0, lnprob0, lnlike0, iterations, thin, storechain)\u001b[0m\n\u001b[1;32m    257\u001b[0m     results \u001b[38;5;241m=\u001b[39m \u001b[38;5;28mlist\u001b[39m(\u001b[38;5;28mmap\u001b[39m(fn, p\u001b[38;5;241m.\u001b[39mreshape((\u001b[38;5;241m-\u001b[39m\u001b[38;5;241m1\u001b[39m, \u001b[38;5;28mself\u001b[39m\u001b[38;5;241m.\u001b[39mdim))))\n\u001b[1;32m    258\u001b[0m \u001b[38;5;28;01melse\u001b[39;00m:\n\u001b[0;32m--> 259\u001b[0m     results \u001b[38;5;241m=\u001b[39m \u001b[38;5;28mlist\u001b[39m(\u001b[38;5;28mself\u001b[39m\u001b[38;5;241m.\u001b[39mpool\u001b[38;5;241m.\u001b[39mmap(fn, p\u001b[38;5;241m.\u001b[39mreshape((\u001b[38;5;241m-\u001b[39m\u001b[38;5;241m1\u001b[39m, \u001b[38;5;28mself\u001b[39m\u001b[38;5;241m.\u001b[39mdim))))\n\u001b[1;32m    261\u001b[0m logls \u001b[38;5;241m=\u001b[39m np\u001b[38;5;241m.\u001b[39marray([r[\u001b[38;5;241m0\u001b[39m] \u001b[38;5;28;01mfor\u001b[39;00m r \u001b[38;5;129;01min\u001b[39;00m results])\u001b[38;5;241m.\u001b[39mreshape((\u001b[38;5;28mself\u001b[39m\u001b[38;5;241m.\u001b[39mntemps,\n\u001b[1;32m    262\u001b[0m                                                    \u001b[38;5;28mself\u001b[39m\u001b[38;5;241m.\u001b[39mnwalkers))\n\u001b[1;32m    263\u001b[0m logps \u001b[38;5;241m=\u001b[39m np\u001b[38;5;241m.\u001b[39marray([r[\u001b[38;5;241m1\u001b[39m] \u001b[38;5;28;01mfor\u001b[39;00m r \u001b[38;5;129;01min\u001b[39;00m results])\u001b[38;5;241m.\u001b[39mreshape((\u001b[38;5;28mself\u001b[39m\u001b[38;5;241m.\u001b[39mntemps,\n\u001b[1;32m    264\u001b[0m                                                    \u001b[38;5;28mself\u001b[39m\u001b[38;5;241m.\u001b[39mnwalkers))\n",
      "File \u001b[0;32m~/miniconda3/envs/pycbc/lib/python3.11/site-packages/pycbc/pool.py:106\u001b[0m, in \u001b[0;36mBroadcastPool.map\u001b[0;34m(self, func, items, chunksize)\u001b[0m\n\u001b[1;32m    104\u001b[0m \u001b[38;5;28;01mwhile\u001b[39;00m \u001b[38;5;28;01mTrue\u001b[39;00m:\n\u001b[1;32m    105\u001b[0m     \u001b[38;5;28;01mtry\u001b[39;00m:\n\u001b[0;32m--> 106\u001b[0m         \u001b[38;5;28;01mreturn\u001b[39;00m results\u001b[38;5;241m.\u001b[39mget(\u001b[38;5;241m1800\u001b[39m)\n\u001b[1;32m    107\u001b[0m     \u001b[38;5;28;01mexcept\u001b[39;00m \u001b[38;5;167;01mTimeoutError\u001b[39;00m:\n\u001b[1;32m    108\u001b[0m         \u001b[38;5;28;01mpass\u001b[39;00m\n",
      "File \u001b[0;32m~/miniconda3/envs/pycbc/lib/python3.11/multiprocessing/pool.py:774\u001b[0m, in \u001b[0;36mApplyResult.get\u001b[0;34m(self, timeout)\u001b[0m\n\u001b[1;32m    772\u001b[0m     \u001b[38;5;28;01mreturn\u001b[39;00m \u001b[38;5;28mself\u001b[39m\u001b[38;5;241m.\u001b[39m_value\n\u001b[1;32m    773\u001b[0m \u001b[38;5;28;01melse\u001b[39;00m:\n\u001b[0;32m--> 774\u001b[0m     \u001b[38;5;28;01mraise\u001b[39;00m \u001b[38;5;28mself\u001b[39m\u001b[38;5;241m.\u001b[39m_value\n",
      "\u001b[0;31mIndexError\u001b[0m: index 7779181412097 is out of bounds for axis 0 with size 65536"
     ]
    }
   ],
   "source": [
    "smpl.run_mcmc(200)"
   ]
  }
 ],
 "metadata": {
  "kernelspec": {
   "display_name": "Python 3 (ipykernel)",
   "language": "python",
   "name": "python3"
  },
  "language_info": {
   "codemirror_mode": {
    "name": "ipython",
    "version": 3
   },
   "file_extension": ".py",
   "mimetype": "text/x-python",
   "name": "python",
   "nbconvert_exporter": "python",
   "pygments_lexer": "ipython3",
   "version": "3.11.4"
  }
 },
 "nbformat": 4,
 "nbformat_minor": 5
}
